{
  "nbformat": 4,
  "nbformat_minor": 0,
  "metadata": {
    "colab": {
      "name": "STPM ML",
      "provenance": [],
      "authorship_tag": "ABX9TyMIj7cjFGf+//dcB+s+HvB6",
      "include_colab_link": true
    },
    "kernelspec": {
      "name": "python3",
      "display_name": "Python 3"
    }
  },
  "cells": [
    {
      "cell_type": "markdown",
      "metadata": {
        "id": "view-in-github",
        "colab_type": "text"
      },
      "source": [
        "<a href=\"https://colab.research.google.com/github/jackwwm/stpm/blob/master/STPM_ML.ipynb\" target=\"_parent\"><img src=\"https://colab.research.google.com/assets/colab-badge.svg\" alt=\"Open In Colab\"/></a>"
      ]
    },
    {
      "cell_type": "code",
      "metadata": {
        "id": "vScaz-KAY51m",
        "colab_type": "code",
        "outputId": "9617362e-50df-47a3-df7c-6d7431bfc75e",
        "colab": {
          "base_uri": "https://localhost:8080/",
          "height": 129
        }
      },
      "source": [
        "from google.colab import drive\n",
        "drive.mount('/content/gdrive/')"
      ],
      "execution_count": 0,
      "outputs": [
        {
          "output_type": "stream",
          "text": [
            "Go to this URL in a browser: https://accounts.google.com/o/oauth2/auth?client_id=947318989803-6bn6qk8qdgf4n4g3pfee6491hc0brc4i.apps.googleusercontent.com&redirect_uri=urn%3aietf%3awg%3aoauth%3a2.0%3aoob&response_type=code&scope=email%20https%3a%2f%2fwww.googleapis.com%2fauth%2fdocs.test%20https%3a%2f%2fwww.googleapis.com%2fauth%2fdrive%20https%3a%2f%2fwww.googleapis.com%2fauth%2fdrive.photos.readonly%20https%3a%2f%2fwww.googleapis.com%2fauth%2fpeopleapi.readonly\n",
            "\n",
            "Enter your authorization code:\n",
            "··········\n",
            "Mounted at /content/gdrive/\n"
          ],
          "name": "stdout"
        }
      ]
    },
    {
      "cell_type": "code",
      "metadata": {
        "id": "JOpYfK3e6pNM",
        "colab_type": "code",
        "outputId": "6eeb3ee5-7443-431f-ad79-8eb08dd5f307",
        "colab": {
          "base_uri": "https://localhost:8080/",
          "height": 35
        }
      },
      "source": [
        "cd \"gdrive/My Drive/Flight Predict\""
      ],
      "execution_count": 0,
      "outputs": [
        {
          "output_type": "stream",
          "text": [
            "/content/gdrive/My Drive/Flight Predict\n"
          ],
          "name": "stdout"
        }
      ]
    },
    {
      "cell_type": "code",
      "metadata": {
        "id": "iQYfdAd549h9",
        "colab_type": "code",
        "outputId": "84591f6d-a654-40f5-e6ae-e30461cfa2e9",
        "colab": {
          "base_uri": "https://localhost:8080/",
          "height": 74
        }
      },
      "source": [
        "import numpy as np # linear algebra\n",
        "import pandas as pd # data processing, CSV file I/O (e.g. pd.read_csv)\n",
        "get_ipython().run_line_magic('matplotlib', 'inline')\n",
        "import matplotlib.pyplot as plt  # Matlab-style plotting\n",
        "import seaborn as sns\n",
        "color = sns.color_palette()\n",
        "sns.set_style('darkgrid')\n",
        "from scipy import stats\n",
        "from scipy.stats import norm, skew\n",
        "from sklearn.linear_model import LinearRegression\n",
        "from sklearn.model_selection import KFold, cross_val_score\n",
        "from sklearn.model_selection import cross_val_predict\n",
        "from sklearn.preprocessing import RobustScaler\n",
        "from sklearn.pipeline import make_pipeline\n",
        "from sklearn.linear_model import RidgeCV\n",
        "from sklearn.linear_model import LassoCV\n",
        "from sklearn.linear_model import ElasticNetCV\n",
        "from sklearn import svm\n",
        "from lightgbm import LGBMRegressor"
      ],
      "execution_count": 0,
      "outputs": [
        {
          "output_type": "stream",
          "text": [
            "/usr/local/lib/python3.6/dist-packages/statsmodels/tools/_testing.py:19: FutureWarning: pandas.util.testing is deprecated. Use the functions in the public API at pandas.testing instead.\n",
            "  import pandas.util.testing as tm\n"
          ],
          "name": "stderr"
        }
      ]
    },
    {
      "cell_type": "code",
      "metadata": {
        "id": "EvnCksD86iUD",
        "colab_type": "code",
        "colab": {}
      },
      "source": [
        "train_df =  pd.read_excel('Data_Train.xlsx')\n",
        "test_df = pd.read_excel('Test_set.xlsx')\n",
        "\n",
        "big_df = train_df.append(test_df)"
      ],
      "execution_count": 0,
      "outputs": []
    },
    {
      "cell_type": "code",
      "metadata": {
        "id": "OmzXdHCx7B33",
        "colab_type": "code",
        "outputId": "da4e14b2-86dd-45f8-d6bb-2e718bd7e1ba",
        "colab": {
          "base_uri": "https://localhost:8080/",
          "height": 241
        }
      },
      "source": [
        "big_df.dtypes"
      ],
      "execution_count": 0,
      "outputs": [
        {
          "output_type": "execute_result",
          "data": {
            "text/plain": [
              "Additional_Info     object\n",
              "Airline             object\n",
              "Arrival_Time        object\n",
              "Date_of_Journey     object\n",
              "Dep_Time            object\n",
              "Destination         object\n",
              "Duration            object\n",
              "Price              float64\n",
              "Route               object\n",
              "Source              object\n",
              "Total_Stops         object\n",
              "dtype: object"
            ]
          },
          "metadata": {
            "tags": []
          },
          "execution_count": 7
        }
      ]
    },
    {
      "cell_type": "code",
      "metadata": {
        "id": "wG0vCVCg69hn",
        "colab_type": "code",
        "colab": {}
      },
      "source": [
        "#Data Cleaning\n",
        "#splitting date to day month year columns\n",
        "big_df['Date'] = big_df['Date_of_Journey'].str.split('/').str[0]\n",
        "big_df['Month'] = big_df['Date_of_Journey'].str.split('/').str[1]\n",
        "big_df['Year'] = big_df['Date_of_Journey'].str.split('/').str[2]\n",
        "big_df['Date'] = big_df['Date'].astype(int)\n",
        "big_df['Month'] = big_df['Month'].astype(int)\n",
        "big_df['Year'] = big_df['Year'].astype(int)"
      ],
      "execution_count": 0,
      "outputs": []
    },
    {
      "cell_type": "code",
      "metadata": {
        "id": "eDp1uKu2Da-m",
        "colab_type": "code",
        "colab": {}
      },
      "source": [
        "big_df=big_df.drop(['Date_of_Journey'], axis=1)"
      ],
      "execution_count": 0,
      "outputs": []
    },
    {
      "cell_type": "code",
      "metadata": {
        "id": "xk-PEKr_7vFq",
        "colab_type": "code",
        "colab": {}
      },
      "source": [
        "#Split time and month and only keep time\n",
        "big_df['Arrival_Time'] = big_df['Arrival_Time'] .str.split(' ').str[0]"
      ],
      "execution_count": 0,
      "outputs": []
    },
    {
      "cell_type": "code",
      "metadata": {
        "id": "qZGkKnsy8BJs",
        "colab_type": "code",
        "colab": {}
      },
      "source": [
        "#Split minute and hour, then drop initial Arrival Time column\n",
        "big_df['Arrival_Hour'] = big_df['Arrival_Time'] .str.split(':').str[0]\n",
        "big_df['Arrival_Minute'] = big_df['Arrival_Time'] .str.split(':').str[1]\n",
        "\n",
        "big_df['Arrival_Hour'] = big_df['Arrival_Hour'].astype(int)\n",
        "big_df['Arrival_Minute'] = big_df['Arrival_Minute'].astype(int)\n",
        "big_df=big_df.drop(['Arrival_Time'], axis=1)"
      ],
      "execution_count": 0,
      "outputs": []
    },
    {
      "cell_type": "code",
      "metadata": {
        "id": "ApNCSRU4Cbiq",
        "colab_type": "code",
        "outputId": "f3118184-8015-41bb-8b23-a816042448a5",
        "colab": {
          "base_uri": "https://localhost:8080/",
          "height": 597
        }
      },
      "source": [
        "big_df"
      ],
      "execution_count": 0,
      "outputs": [
        {
          "output_type": "execute_result",
          "data": {
            "text/html": [
              "<div>\n",
              "<style scoped>\n",
              "    .dataframe tbody tr th:only-of-type {\n",
              "        vertical-align: middle;\n",
              "    }\n",
              "\n",
              "    .dataframe tbody tr th {\n",
              "        vertical-align: top;\n",
              "    }\n",
              "\n",
              "    .dataframe thead th {\n",
              "        text-align: right;\n",
              "    }\n",
              "</style>\n",
              "<table border=\"1\" class=\"dataframe\">\n",
              "  <thead>\n",
              "    <tr style=\"text-align: right;\">\n",
              "      <th></th>\n",
              "      <th>Airline</th>\n",
              "      <th>Source</th>\n",
              "      <th>Destination</th>\n",
              "      <th>Route</th>\n",
              "      <th>Dep_Time</th>\n",
              "      <th>Duration</th>\n",
              "      <th>Total_Stops</th>\n",
              "      <th>Additional_Info</th>\n",
              "      <th>Price</th>\n",
              "      <th>Date</th>\n",
              "      <th>Month</th>\n",
              "      <th>Year</th>\n",
              "      <th>Arrival_Hour</th>\n",
              "      <th>Arrival_Minute</th>\n",
              "    </tr>\n",
              "  </thead>\n",
              "  <tbody>\n",
              "    <tr>\n",
              "      <th>0</th>\n",
              "      <td>IndiGo</td>\n",
              "      <td>Banglore</td>\n",
              "      <td>New Delhi</td>\n",
              "      <td>BLR → DEL</td>\n",
              "      <td>22:20</td>\n",
              "      <td>2h 50m</td>\n",
              "      <td>non-stop</td>\n",
              "      <td>No info</td>\n",
              "      <td>3897.0</td>\n",
              "      <td>24</td>\n",
              "      <td>3</td>\n",
              "      <td>2019</td>\n",
              "      <td>1</td>\n",
              "      <td>10</td>\n",
              "    </tr>\n",
              "    <tr>\n",
              "      <th>1</th>\n",
              "      <td>Air India</td>\n",
              "      <td>Kolkata</td>\n",
              "      <td>Banglore</td>\n",
              "      <td>CCU → IXR → BBI → BLR</td>\n",
              "      <td>05:50</td>\n",
              "      <td>7h 25m</td>\n",
              "      <td>2 stops</td>\n",
              "      <td>No info</td>\n",
              "      <td>7662.0</td>\n",
              "      <td>1</td>\n",
              "      <td>5</td>\n",
              "      <td>2019</td>\n",
              "      <td>13</td>\n",
              "      <td>15</td>\n",
              "    </tr>\n",
              "    <tr>\n",
              "      <th>2</th>\n",
              "      <td>Jet Airways</td>\n",
              "      <td>Delhi</td>\n",
              "      <td>Cochin</td>\n",
              "      <td>DEL → LKO → BOM → COK</td>\n",
              "      <td>09:25</td>\n",
              "      <td>19h</td>\n",
              "      <td>2 stops</td>\n",
              "      <td>No info</td>\n",
              "      <td>13882.0</td>\n",
              "      <td>9</td>\n",
              "      <td>6</td>\n",
              "      <td>2019</td>\n",
              "      <td>4</td>\n",
              "      <td>25</td>\n",
              "    </tr>\n",
              "    <tr>\n",
              "      <th>3</th>\n",
              "      <td>IndiGo</td>\n",
              "      <td>Kolkata</td>\n",
              "      <td>Banglore</td>\n",
              "      <td>CCU → NAG → BLR</td>\n",
              "      <td>18:05</td>\n",
              "      <td>5h 25m</td>\n",
              "      <td>1 stop</td>\n",
              "      <td>No info</td>\n",
              "      <td>6218.0</td>\n",
              "      <td>12</td>\n",
              "      <td>5</td>\n",
              "      <td>2019</td>\n",
              "      <td>23</td>\n",
              "      <td>30</td>\n",
              "    </tr>\n",
              "    <tr>\n",
              "      <th>4</th>\n",
              "      <td>IndiGo</td>\n",
              "      <td>Banglore</td>\n",
              "      <td>New Delhi</td>\n",
              "      <td>BLR → NAG → DEL</td>\n",
              "      <td>16:50</td>\n",
              "      <td>4h 45m</td>\n",
              "      <td>1 stop</td>\n",
              "      <td>No info</td>\n",
              "      <td>13302.0</td>\n",
              "      <td>1</td>\n",
              "      <td>3</td>\n",
              "      <td>2019</td>\n",
              "      <td>21</td>\n",
              "      <td>35</td>\n",
              "    </tr>\n",
              "    <tr>\n",
              "      <th>...</th>\n",
              "      <td>...</td>\n",
              "      <td>...</td>\n",
              "      <td>...</td>\n",
              "      <td>...</td>\n",
              "      <td>...</td>\n",
              "      <td>...</td>\n",
              "      <td>...</td>\n",
              "      <td>...</td>\n",
              "      <td>...</td>\n",
              "      <td>...</td>\n",
              "      <td>...</td>\n",
              "      <td>...</td>\n",
              "      <td>...</td>\n",
              "      <td>...</td>\n",
              "    </tr>\n",
              "    <tr>\n",
              "      <th>2666</th>\n",
              "      <td>Air India</td>\n",
              "      <td>Kolkata</td>\n",
              "      <td>Banglore</td>\n",
              "      <td>CCU → DEL → BLR</td>\n",
              "      <td>20:30</td>\n",
              "      <td>23h 55m</td>\n",
              "      <td>1 stop</td>\n",
              "      <td>No info</td>\n",
              "      <td>NaN</td>\n",
              "      <td>6</td>\n",
              "      <td>6</td>\n",
              "      <td>2019</td>\n",
              "      <td>20</td>\n",
              "      <td>25</td>\n",
              "    </tr>\n",
              "    <tr>\n",
              "      <th>2667</th>\n",
              "      <td>IndiGo</td>\n",
              "      <td>Kolkata</td>\n",
              "      <td>Banglore</td>\n",
              "      <td>CCU → BLR</td>\n",
              "      <td>14:20</td>\n",
              "      <td>2h 35m</td>\n",
              "      <td>non-stop</td>\n",
              "      <td>No info</td>\n",
              "      <td>NaN</td>\n",
              "      <td>27</td>\n",
              "      <td>3</td>\n",
              "      <td>2019</td>\n",
              "      <td>16</td>\n",
              "      <td>55</td>\n",
              "    </tr>\n",
              "    <tr>\n",
              "      <th>2668</th>\n",
              "      <td>Jet Airways</td>\n",
              "      <td>Delhi</td>\n",
              "      <td>Cochin</td>\n",
              "      <td>DEL → BOM → COK</td>\n",
              "      <td>21:50</td>\n",
              "      <td>6h 35m</td>\n",
              "      <td>1 stop</td>\n",
              "      <td>No info</td>\n",
              "      <td>NaN</td>\n",
              "      <td>6</td>\n",
              "      <td>3</td>\n",
              "      <td>2019</td>\n",
              "      <td>4</td>\n",
              "      <td>25</td>\n",
              "    </tr>\n",
              "    <tr>\n",
              "      <th>2669</th>\n",
              "      <td>Air India</td>\n",
              "      <td>Delhi</td>\n",
              "      <td>Cochin</td>\n",
              "      <td>DEL → BOM → COK</td>\n",
              "      <td>04:00</td>\n",
              "      <td>15h 15m</td>\n",
              "      <td>1 stop</td>\n",
              "      <td>No info</td>\n",
              "      <td>NaN</td>\n",
              "      <td>6</td>\n",
              "      <td>3</td>\n",
              "      <td>2019</td>\n",
              "      <td>19</td>\n",
              "      <td>15</td>\n",
              "    </tr>\n",
              "    <tr>\n",
              "      <th>2670</th>\n",
              "      <td>Multiple carriers</td>\n",
              "      <td>Delhi</td>\n",
              "      <td>Cochin</td>\n",
              "      <td>DEL → BOM → COK</td>\n",
              "      <td>04:55</td>\n",
              "      <td>14h 20m</td>\n",
              "      <td>1 stop</td>\n",
              "      <td>No info</td>\n",
              "      <td>NaN</td>\n",
              "      <td>15</td>\n",
              "      <td>6</td>\n",
              "      <td>2019</td>\n",
              "      <td>19</td>\n",
              "      <td>15</td>\n",
              "    </tr>\n",
              "  </tbody>\n",
              "</table>\n",
              "<p>13354 rows × 14 columns</p>\n",
              "</div>"
            ],
            "text/plain": [
              "                Airline    Source  ... Arrival_Hour Arrival_Minute\n",
              "0                IndiGo  Banglore  ...            1             10\n",
              "1             Air India   Kolkata  ...           13             15\n",
              "2           Jet Airways     Delhi  ...            4             25\n",
              "3                IndiGo   Kolkata  ...           23             30\n",
              "4                IndiGo  Banglore  ...           21             35\n",
              "...                 ...       ...  ...          ...            ...\n",
              "2666          Air India   Kolkata  ...           20             25\n",
              "2667             IndiGo   Kolkata  ...           16             55\n",
              "2668        Jet Airways     Delhi  ...            4             25\n",
              "2669          Air India     Delhi  ...           19             15\n",
              "2670  Multiple carriers     Delhi  ...           19             15\n",
              "\n",
              "[13354 rows x 14 columns]"
            ]
          },
          "metadata": {
            "tags": []
          },
          "execution_count": 9
        }
      ]
    },
    {
      "cell_type": "code",
      "metadata": {
        "id": "nySlPgMz8fyF",
        "colab_type": "code",
        "colab": {}
      },
      "source": [
        "#sort Drops column\n",
        "big_df['Total_Stops']=big_df['Total_Stops'].fillna('1 stop')\n",
        "big_df['Total_Stops']=big_df['Total_Stops'].replace('non-stop','0 stop')\n",
        "\n",
        "big_df['Stop'] = big_df['Total_Stops'].str.split(' ').str[0]\n",
        "big_df['Stop'] = big_df['Stop'].astype(int)\n",
        "\n",
        "#Drop initial Total_Stops column\n",
        "big_df=big_df.drop(['Total_Stops'], axis=1)"
      ],
      "execution_count": 0,
      "outputs": []
    },
    {
      "cell_type": "code",
      "metadata": {
        "id": "SileyhGK-lum",
        "colab_type": "code",
        "colab": {}
      },
      "source": [
        "#Similar to Arrival_Time, sort Dep_Time\n",
        "big_df['Dep_Hour'] = big_df['Dep_Time'] .str.split(':').str[0]\n",
        "big_df['Dep_Minute'] = big_df['Dep_Time'] .str.split(':').str[1]\n",
        "big_df['Dep_Hour'] = big_df['Dep_Hour'].astype(int)\n",
        "big_df['Dep_Minute'] = big_df['Dep_Minute'].astype(int)\n",
        "big_df=big_df.drop(['Dep_Time'], axis=1)"
      ],
      "execution_count": 0,
      "outputs": []
    },
    {
      "cell_type": "code",
      "metadata": {
        "id": "3Mk2m7AW-14T",
        "colab_type": "code",
        "colab": {}
      },
      "source": [
        "#Sort Route column\n",
        "big_df['Route_1'] = big_df['Route'] .str.split('→ ').str[0]\n",
        "big_df['Route_2'] = big_df['Route'] .str.split('→ ').str[1]\n",
        "big_df['Route_3'] = big_df['Route'] .str.split('→ ').str[2]\n",
        "big_df['Route_4'] = big_df['Route'] .str.split('→ ').str[3]\n",
        "big_df['Route_5'] = big_df['Route'] .str.split('→ ').str[4]\n",
        "\n",
        "\n",
        "big_df['Route_1'].fillna(\"None\",inplace = True)\n",
        "big_df['Route_2'].fillna(\"None\",inplace = True)\n",
        "big_df['Route_3'].fillna(\"None\",inplace = True)\n",
        "big_df['Route_4'].fillna(\"None\",inplace = True)\n",
        "big_df['Route_5'].fillna(\"None\",inplace = True)"
      ],
      "execution_count": 0,
      "outputs": []
    },
    {
      "cell_type": "code",
      "metadata": {
        "id": "dU3xf6hq_DgI",
        "colab_type": "code",
        "outputId": "5b14d9d7-209b-45a4-bea9-6a564d1b74ca",
        "colab": {
          "base_uri": "https://localhost:8080/",
          "height": 300
        }
      },
      "source": [
        "big_df.describe()"
      ],
      "execution_count": 0,
      "outputs": [
        {
          "output_type": "execute_result",
          "data": {
            "text/html": [
              "<div>\n",
              "<style scoped>\n",
              "    .dataframe tbody tr th:only-of-type {\n",
              "        vertical-align: middle;\n",
              "    }\n",
              "\n",
              "    .dataframe tbody tr th {\n",
              "        vertical-align: top;\n",
              "    }\n",
              "\n",
              "    .dataframe thead th {\n",
              "        text-align: right;\n",
              "    }\n",
              "</style>\n",
              "<table border=\"1\" class=\"dataframe\">\n",
              "  <thead>\n",
              "    <tr style=\"text-align: right;\">\n",
              "      <th></th>\n",
              "      <th>Price</th>\n",
              "      <th>Date</th>\n",
              "      <th>Month</th>\n",
              "      <th>Year</th>\n",
              "      <th>Arrival_Hour</th>\n",
              "      <th>Arrival_Minute</th>\n",
              "      <th>Stop</th>\n",
              "      <th>Dep_Hour</th>\n",
              "      <th>Dep_Minute</th>\n",
              "    </tr>\n",
              "  </thead>\n",
              "  <tbody>\n",
              "    <tr>\n",
              "      <th>count</th>\n",
              "      <td>10683.000000</td>\n",
              "      <td>13354.000000</td>\n",
              "      <td>13354.000000</td>\n",
              "      <td>13354.0</td>\n",
              "      <td>13354.000000</td>\n",
              "      <td>13354.000000</td>\n",
              "      <td>13354.000000</td>\n",
              "      <td>13354.000000</td>\n",
              "      <td>13354.000000</td>\n",
              "    </tr>\n",
              "    <tr>\n",
              "      <th>mean</th>\n",
              "      <td>9087.064121</td>\n",
              "      <td>13.389846</td>\n",
              "      <td>4.710574</td>\n",
              "      <td>2019.0</td>\n",
              "      <td>13.396061</td>\n",
              "      <td>24.664146</td>\n",
              "      <td>0.826045</td>\n",
              "      <td>12.513254</td>\n",
              "      <td>24.507264</td>\n",
              "    </tr>\n",
              "    <tr>\n",
              "      <th>std</th>\n",
              "      <td>4611.359167</td>\n",
              "      <td>8.439060</td>\n",
              "      <td>1.165622</td>\n",
              "      <td>0.0</td>\n",
              "      <td>6.896145</td>\n",
              "      <td>16.559723</td>\n",
              "      <td>0.674608</td>\n",
              "      <td>5.736273</td>\n",
              "      <td>18.832385</td>\n",
              "    </tr>\n",
              "    <tr>\n",
              "      <th>min</th>\n",
              "      <td>1759.000000</td>\n",
              "      <td>1.000000</td>\n",
              "      <td>3.000000</td>\n",
              "      <td>2019.0</td>\n",
              "      <td>0.000000</td>\n",
              "      <td>0.000000</td>\n",
              "      <td>0.000000</td>\n",
              "      <td>0.000000</td>\n",
              "      <td>0.000000</td>\n",
              "    </tr>\n",
              "    <tr>\n",
              "      <th>25%</th>\n",
              "      <td>5277.000000</td>\n",
              "      <td>6.000000</td>\n",
              "      <td>3.000000</td>\n",
              "      <td>2019.0</td>\n",
              "      <td>8.000000</td>\n",
              "      <td>10.000000</td>\n",
              "      <td>0.000000</td>\n",
              "      <td>8.000000</td>\n",
              "      <td>5.000000</td>\n",
              "    </tr>\n",
              "    <tr>\n",
              "      <th>50%</th>\n",
              "      <td>8372.000000</td>\n",
              "      <td>12.000000</td>\n",
              "      <td>5.000000</td>\n",
              "      <td>2019.0</td>\n",
              "      <td>14.000000</td>\n",
              "      <td>25.000000</td>\n",
              "      <td>1.000000</td>\n",
              "      <td>11.000000</td>\n",
              "      <td>25.000000</td>\n",
              "    </tr>\n",
              "    <tr>\n",
              "      <th>75%</th>\n",
              "      <td>12373.000000</td>\n",
              "      <td>21.000000</td>\n",
              "      <td>6.000000</td>\n",
              "      <td>2019.0</td>\n",
              "      <td>19.000000</td>\n",
              "      <td>35.000000</td>\n",
              "      <td>1.000000</td>\n",
              "      <td>18.000000</td>\n",
              "      <td>40.000000</td>\n",
              "    </tr>\n",
              "    <tr>\n",
              "      <th>max</th>\n",
              "      <td>79512.000000</td>\n",
              "      <td>27.000000</td>\n",
              "      <td>6.000000</td>\n",
              "      <td>2019.0</td>\n",
              "      <td>23.000000</td>\n",
              "      <td>55.000000</td>\n",
              "      <td>4.000000</td>\n",
              "      <td>23.000000</td>\n",
              "      <td>55.000000</td>\n",
              "    </tr>\n",
              "  </tbody>\n",
              "</table>\n",
              "</div>"
            ],
            "text/plain": [
              "              Price          Date  ...      Dep_Hour    Dep_Minute\n",
              "count  10683.000000  13354.000000  ...  13354.000000  13354.000000\n",
              "mean    9087.064121     13.389846  ...     12.513254     24.507264\n",
              "std     4611.359167      8.439060  ...      5.736273     18.832385\n",
              "min     1759.000000      1.000000  ...      0.000000      0.000000\n",
              "25%     5277.000000      6.000000  ...      8.000000      5.000000\n",
              "50%     8372.000000     12.000000  ...     11.000000     25.000000\n",
              "75%    12373.000000     21.000000  ...     18.000000     40.000000\n",
              "max    79512.000000     27.000000  ...     23.000000     55.000000\n",
              "\n",
              "[8 rows x 9 columns]"
            ]
          },
          "metadata": {
            "tags": []
          },
          "execution_count": 13
        }
      ]
    },
    {
      "cell_type": "code",
      "metadata": {
        "id": "t-bGyaml_XBj",
        "colab_type": "code",
        "outputId": "c1dda1b3-85de-4aaf-e19d-87a7c8149ae7",
        "colab": {
          "base_uri": "https://localhost:8080/",
          "height": 241
        }
      },
      "source": [
        "big_df.Price"
      ],
      "execution_count": 0,
      "outputs": [
        {
          "output_type": "execute_result",
          "data": {
            "text/plain": [
              "0        3897.0\n",
              "1        7662.0\n",
              "2       13882.0\n",
              "3        6218.0\n",
              "4       13302.0\n",
              "         ...   \n",
              "2666        NaN\n",
              "2667        NaN\n",
              "2668        NaN\n",
              "2669        NaN\n",
              "2670        NaN\n",
              "Name: Price, Length: 13354, dtype: float64"
            ]
          },
          "metadata": {
            "tags": []
          },
          "execution_count": 14
        }
      ]
    },
    {
      "cell_type": "code",
      "metadata": {
        "id": "yVdIJ-Yo_fU5",
        "colab_type": "code",
        "colab": {}
      },
      "source": [
        "#Replace NA price values with mean\n",
        "big_df['Price'].fillna((big_df['Price'].mean()), inplace=True)"
      ],
      "execution_count": 0,
      "outputs": []
    },
    {
      "cell_type": "code",
      "metadata": {
        "id": "-BAOUjTX_lNZ",
        "colab_type": "code",
        "outputId": "99f425d6-7a4f-40ee-bb4a-4917a1ed04c8",
        "colab": {
          "base_uri": "https://localhost:8080/",
          "height": 239
        }
      },
      "source": [
        "big_df.Price"
      ],
      "execution_count": 0,
      "outputs": [
        {
          "output_type": "execute_result",
          "data": {
            "text/plain": [
              "0        3897.000000\n",
              "1        7662.000000\n",
              "2       13882.000000\n",
              "3        6218.000000\n",
              "4       13302.000000\n",
              "            ...     \n",
              "2666     9087.064121\n",
              "2667     9087.064121\n",
              "2668     9087.064121\n",
              "2669     9087.064121\n",
              "2670     9087.064121\n",
              "Name: Price, Length: 13354, dtype: float64"
            ]
          },
          "metadata": {
            "tags": []
          },
          "execution_count": 14
        }
      ]
    },
    {
      "cell_type": "code",
      "metadata": {
        "id": "Dq61tdqp_nc9",
        "colab_type": "code",
        "colab": {}
      },
      "source": [
        "#Drop Route, no longer useful. Assuming Duration doesn't affect pricing, drop Duration\n",
        "big_df=big_df.drop(['Route'], axis=1)\n",
        "big_df=big_df.drop(['Duration'], axis=1)"
      ],
      "execution_count": 0,
      "outputs": []
    },
    {
      "cell_type": "code",
      "metadata": {
        "id": "Ac6Dhj-7_ums",
        "colab_type": "code",
        "colab": {}
      },
      "source": [
        "# Converting the Categorical into integer variable\n",
        "from sklearn.preprocessing import LabelEncoder\n",
        "\n",
        "lb_encode = LabelEncoder()\n",
        "big_df[\"Additional_Info\"] = lb_encode.fit_transform(big_df[\"Additional_Info\"])\n",
        "big_df[\"Airline\"] = lb_encode.fit_transform(big_df[\"Airline\"])\n",
        "big_df[\"Destination\"] = lb_encode.fit_transform(big_df[\"Destination\"])\n",
        "big_df[\"Source\"] = lb_encode.fit_transform(big_df[\"Source\"])\n",
        "big_df['Route_1']= lb_encode.fit_transform(big_df[\"Route_1\"])\n",
        "big_df['Route_2']= lb_encode.fit_transform(big_df[\"Route_2\"])\n",
        "big_df['Route_3']= lb_encode.fit_transform(big_df[\"Route_3\"])\n",
        "big_df['Route_4']= lb_encode.fit_transform(big_df[\"Route_4\"])\n",
        "big_df['Route_5']= lb_encode.fit_transform(big_df[\"Route_5\"])"
      ],
      "execution_count": 0,
      "outputs": []
    },
    {
      "cell_type": "code",
      "metadata": {
        "id": "iPvnLSKWWCOk",
        "colab_type": "code",
        "outputId": "dee14fbe-be4c-401b-937a-9e17a8c98bd9",
        "colab": {
          "base_uri": "https://localhost:8080/",
          "height": 35
        }
      },
      "source": [
        "np.unique(big_df['Destination'])"
      ],
      "execution_count": 0,
      "outputs": [
        {
          "output_type": "execute_result",
          "data": {
            "text/plain": [
              "array([0, 1, 2, 3, 4, 5])"
            ]
          },
          "metadata": {
            "tags": []
          },
          "execution_count": 74
        }
      ]
    },
    {
      "cell_type": "code",
      "metadata": {
        "id": "V6VNvFrzTSOE",
        "colab_type": "code",
        "outputId": "7c514bc5-e912-4470-dd9f-16beaffc1c5a",
        "colab": {
          "base_uri": "https://localhost:8080/",
          "height": 72
        }
      },
      "source": [
        "print(lb_encode.transform(lb_encode.classes_))\n",
        "print(lb_encode.classes_)\n",
        "lb_name_mapping = dict(zip(lb_encode.classes_, lb_encode.transform(lb_encode.classes_)))\n",
        "print(lb_name_mapping)"
      ],
      "execution_count": 0,
      "outputs": [
        {
          "output_type": "stream",
          "text": [
            "[0 1 2 3 4 5]\n",
            "['BLR' 'COK' 'DEL' 'HYD' 'None' 'VGA ']\n",
            "{'BLR': 0, 'COK': 1, 'DEL': 2, 'HYD': 3, 'None': 4, 'VGA ': 5}\n"
          ],
          "name": "stdout"
        }
      ]
    },
    {
      "cell_type": "code",
      "metadata": {
        "id": "YH29Fi4CVSN4",
        "colab_type": "code",
        "outputId": "87877cd3-827f-44e8-eb57-77ddf6b42b73",
        "colab": {
          "base_uri": "https://localhost:8080/",
          "height": 444
        }
      },
      "source": [
        "big_df"
      ],
      "execution_count": 0,
      "outputs": [
        {
          "output_type": "execute_result",
          "data": {
            "text/html": [
              "<div>\n",
              "<style scoped>\n",
              "    .dataframe tbody tr th:only-of-type {\n",
              "        vertical-align: middle;\n",
              "    }\n",
              "\n",
              "    .dataframe tbody tr th {\n",
              "        vertical-align: top;\n",
              "    }\n",
              "\n",
              "    .dataframe thead th {\n",
              "        text-align: right;\n",
              "    }\n",
              "</style>\n",
              "<table border=\"1\" class=\"dataframe\">\n",
              "  <thead>\n",
              "    <tr style=\"text-align: right;\">\n",
              "      <th></th>\n",
              "      <th>Airline</th>\n",
              "      <th>Source</th>\n",
              "      <th>Destination</th>\n",
              "      <th>Additional_Info</th>\n",
              "      <th>Price</th>\n",
              "      <th>Date</th>\n",
              "      <th>Month</th>\n",
              "      <th>Year</th>\n",
              "      <th>Arrival_Hour</th>\n",
              "      <th>Arrival_Minute</th>\n",
              "      <th>Stop</th>\n",
              "      <th>Dep_Hour</th>\n",
              "      <th>Dep_Minute</th>\n",
              "      <th>Route_1</th>\n",
              "      <th>Route_2</th>\n",
              "      <th>Route_3</th>\n",
              "      <th>Route_4</th>\n",
              "      <th>Route_5</th>\n",
              "    </tr>\n",
              "  </thead>\n",
              "  <tbody>\n",
              "    <tr>\n",
              "      <th>0</th>\n",
              "      <td>3</td>\n",
              "      <td>0</td>\n",
              "      <td>5</td>\n",
              "      <td>8</td>\n",
              "      <td>3897.000000</td>\n",
              "      <td>24</td>\n",
              "      <td>3</td>\n",
              "      <td>2019</td>\n",
              "      <td>1</td>\n",
              "      <td>10</td>\n",
              "      <td>0</td>\n",
              "      <td>22</td>\n",
              "      <td>20</td>\n",
              "      <td>0</td>\n",
              "      <td>13</td>\n",
              "      <td>24</td>\n",
              "      <td>12</td>\n",
              "      <td>4</td>\n",
              "    </tr>\n",
              "    <tr>\n",
              "      <th>1</th>\n",
              "      <td>1</td>\n",
              "      <td>3</td>\n",
              "      <td>0</td>\n",
              "      <td>8</td>\n",
              "      <td>7662.000000</td>\n",
              "      <td>1</td>\n",
              "      <td>5</td>\n",
              "      <td>2019</td>\n",
              "      <td>13</td>\n",
              "      <td>15</td>\n",
              "      <td>2</td>\n",
              "      <td>5</td>\n",
              "      <td>50</td>\n",
              "      <td>2</td>\n",
              "      <td>25</td>\n",
              "      <td>1</td>\n",
              "      <td>3</td>\n",
              "      <td>4</td>\n",
              "    </tr>\n",
              "    <tr>\n",
              "      <th>2</th>\n",
              "      <td>4</td>\n",
              "      <td>2</td>\n",
              "      <td>1</td>\n",
              "      <td>8</td>\n",
              "      <td>13882.000000</td>\n",
              "      <td>9</td>\n",
              "      <td>6</td>\n",
              "      <td>2019</td>\n",
              "      <td>4</td>\n",
              "      <td>25</td>\n",
              "      <td>2</td>\n",
              "      <td>9</td>\n",
              "      <td>25</td>\n",
              "      <td>3</td>\n",
              "      <td>32</td>\n",
              "      <td>4</td>\n",
              "      <td>5</td>\n",
              "      <td>4</td>\n",
              "    </tr>\n",
              "    <tr>\n",
              "      <th>3</th>\n",
              "      <td>3</td>\n",
              "      <td>3</td>\n",
              "      <td>0</td>\n",
              "      <td>8</td>\n",
              "      <td>6218.000000</td>\n",
              "      <td>12</td>\n",
              "      <td>5</td>\n",
              "      <td>2019</td>\n",
              "      <td>23</td>\n",
              "      <td>30</td>\n",
              "      <td>1</td>\n",
              "      <td>18</td>\n",
              "      <td>5</td>\n",
              "      <td>2</td>\n",
              "      <td>34</td>\n",
              "      <td>3</td>\n",
              "      <td>12</td>\n",
              "      <td>4</td>\n",
              "    </tr>\n",
              "    <tr>\n",
              "      <th>4</th>\n",
              "      <td>3</td>\n",
              "      <td>0</td>\n",
              "      <td>5</td>\n",
              "      <td>8</td>\n",
              "      <td>13302.000000</td>\n",
              "      <td>1</td>\n",
              "      <td>3</td>\n",
              "      <td>2019</td>\n",
              "      <td>21</td>\n",
              "      <td>35</td>\n",
              "      <td>1</td>\n",
              "      <td>16</td>\n",
              "      <td>50</td>\n",
              "      <td>0</td>\n",
              "      <td>34</td>\n",
              "      <td>8</td>\n",
              "      <td>12</td>\n",
              "      <td>4</td>\n",
              "    </tr>\n",
              "    <tr>\n",
              "      <th>...</th>\n",
              "      <td>...</td>\n",
              "      <td>...</td>\n",
              "      <td>...</td>\n",
              "      <td>...</td>\n",
              "      <td>...</td>\n",
              "      <td>...</td>\n",
              "      <td>...</td>\n",
              "      <td>...</td>\n",
              "      <td>...</td>\n",
              "      <td>...</td>\n",
              "      <td>...</td>\n",
              "      <td>...</td>\n",
              "      <td>...</td>\n",
              "      <td>...</td>\n",
              "      <td>...</td>\n",
              "      <td>...</td>\n",
              "      <td>...</td>\n",
              "      <td>...</td>\n",
              "    </tr>\n",
              "    <tr>\n",
              "      <th>2666</th>\n",
              "      <td>1</td>\n",
              "      <td>3</td>\n",
              "      <td>0</td>\n",
              "      <td>8</td>\n",
              "      <td>9087.064121</td>\n",
              "      <td>6</td>\n",
              "      <td>6</td>\n",
              "      <td>2019</td>\n",
              "      <td>20</td>\n",
              "      <td>25</td>\n",
              "      <td>1</td>\n",
              "      <td>20</td>\n",
              "      <td>30</td>\n",
              "      <td>2</td>\n",
              "      <td>14</td>\n",
              "      <td>3</td>\n",
              "      <td>12</td>\n",
              "      <td>4</td>\n",
              "    </tr>\n",
              "    <tr>\n",
              "      <th>2667</th>\n",
              "      <td>3</td>\n",
              "      <td>3</td>\n",
              "      <td>0</td>\n",
              "      <td>8</td>\n",
              "      <td>9087.064121</td>\n",
              "      <td>27</td>\n",
              "      <td>3</td>\n",
              "      <td>2019</td>\n",
              "      <td>16</td>\n",
              "      <td>55</td>\n",
              "      <td>0</td>\n",
              "      <td>14</td>\n",
              "      <td>20</td>\n",
              "      <td>2</td>\n",
              "      <td>5</td>\n",
              "      <td>24</td>\n",
              "      <td>12</td>\n",
              "      <td>4</td>\n",
              "    </tr>\n",
              "    <tr>\n",
              "      <th>2668</th>\n",
              "      <td>4</td>\n",
              "      <td>2</td>\n",
              "      <td>1</td>\n",
              "      <td>8</td>\n",
              "      <td>9087.064121</td>\n",
              "      <td>6</td>\n",
              "      <td>3</td>\n",
              "      <td>2019</td>\n",
              "      <td>4</td>\n",
              "      <td>25</td>\n",
              "      <td>1</td>\n",
              "      <td>21</td>\n",
              "      <td>50</td>\n",
              "      <td>3</td>\n",
              "      <td>7</td>\n",
              "      <td>6</td>\n",
              "      <td>12</td>\n",
              "      <td>4</td>\n",
              "    </tr>\n",
              "    <tr>\n",
              "      <th>2669</th>\n",
              "      <td>1</td>\n",
              "      <td>2</td>\n",
              "      <td>1</td>\n",
              "      <td>8</td>\n",
              "      <td>9087.064121</td>\n",
              "      <td>6</td>\n",
              "      <td>3</td>\n",
              "      <td>2019</td>\n",
              "      <td>19</td>\n",
              "      <td>15</td>\n",
              "      <td>1</td>\n",
              "      <td>4</td>\n",
              "      <td>0</td>\n",
              "      <td>3</td>\n",
              "      <td>7</td>\n",
              "      <td>6</td>\n",
              "      <td>12</td>\n",
              "      <td>4</td>\n",
              "    </tr>\n",
              "    <tr>\n",
              "      <th>2670</th>\n",
              "      <td>6</td>\n",
              "      <td>2</td>\n",
              "      <td>1</td>\n",
              "      <td>8</td>\n",
              "      <td>9087.064121</td>\n",
              "      <td>15</td>\n",
              "      <td>6</td>\n",
              "      <td>2019</td>\n",
              "      <td>19</td>\n",
              "      <td>15</td>\n",
              "      <td>1</td>\n",
              "      <td>4</td>\n",
              "      <td>55</td>\n",
              "      <td>3</td>\n",
              "      <td>7</td>\n",
              "      <td>6</td>\n",
              "      <td>12</td>\n",
              "      <td>4</td>\n",
              "    </tr>\n",
              "  </tbody>\n",
              "</table>\n",
              "<p>13354 rows × 18 columns</p>\n",
              "</div>"
            ],
            "text/plain": [
              "      Airline  Source  Destination  ...  Route_3  Route_4  Route_5\n",
              "0           3       0            5  ...       24       12        4\n",
              "1           1       3            0  ...        1        3        4\n",
              "2           4       2            1  ...        4        5        4\n",
              "3           3       3            0  ...        3       12        4\n",
              "4           3       0            5  ...        8       12        4\n",
              "...       ...     ...          ...  ...      ...      ...      ...\n",
              "2666        1       3            0  ...        3       12        4\n",
              "2667        3       3            0  ...       24       12        4\n",
              "2668        4       2            1  ...        6       12        4\n",
              "2669        1       2            1  ...        6       12        4\n",
              "2670        6       2            1  ...        6       12        4\n",
              "\n",
              "[13354 rows x 18 columns]"
            ]
          },
          "metadata": {
            "tags": []
          },
          "execution_count": 65
        }
      ]
    },
    {
      "cell_type": "code",
      "metadata": {
        "id": "h92iJ1ZTAry_",
        "colab_type": "code",
        "colab": {}
      },
      "source": [
        "# # Missing value validation\n",
        "\n",
        "def missing_values_table(df):\n",
        "        # Total missing values\n",
        "        mis_val = df.isnull().sum()\n",
        "        \n",
        "        # Percentage of missing values\n",
        "        mis_val_percent = 100 * df.isnull().sum() / len(df)\n",
        "        \n",
        "        # Make a table with the results\n",
        "        mis_val_table = pd.concat([mis_val, mis_val_percent], axis=1)\n",
        "        \n",
        "        # Rename the columns\n",
        "        mis_val_table_ren_columns = mis_val_table.rename(\n",
        "        columns = {0 : 'Missing Values', 1 : '% of Total Values'})\n",
        "        \n",
        "        # Sort the table by percentage of missing descending\n",
        "        mis_val_table_ren_columns = mis_val_table_ren_columns[\n",
        "            mis_val_table_ren_columns.iloc[:,1] != 0].sort_values(\n",
        "        '% of Total Values', ascending=False).round(1)\n",
        "        \n",
        "        # Print some summary information\n",
        "        print (\"Your selected dataframe has \" + str(df.shape[1]) + \" columns.\\n\"      \n",
        "            \"There are \" + str(mis_val_table_ren_columns.shape[0]) +\n",
        "              \" columns that have missing values.\")\n",
        "        \n",
        "        # Return the dataframe with missing information\n",
        "        return mis_val_table_ren_columns  "
      ],
      "execution_count": 0,
      "outputs": []
    },
    {
      "cell_type": "code",
      "metadata": {
        "id": "ZhDUV7deAwSE",
        "colab_type": "code",
        "outputId": "ee66053e-e5e3-405d-aa17-409740dc892b",
        "colab": {
          "base_uri": "https://localhost:8080/",
          "height": 86
        }
      },
      "source": [
        "#Check for missing values\n",
        "missing_values_table(big_df)"
      ],
      "execution_count": 0,
      "outputs": [
        {
          "output_type": "stream",
          "text": [
            "Your selected dataframe has 18 columns.\n",
            "There are 0 columns that have missing values.\n"
          ],
          "name": "stdout"
        },
        {
          "output_type": "execute_result",
          "data": {
            "text/html": [
              "<div>\n",
              "<style scoped>\n",
              "    .dataframe tbody tr th:only-of-type {\n",
              "        vertical-align: middle;\n",
              "    }\n",
              "\n",
              "    .dataframe tbody tr th {\n",
              "        vertical-align: top;\n",
              "    }\n",
              "\n",
              "    .dataframe thead th {\n",
              "        text-align: right;\n",
              "    }\n",
              "</style>\n",
              "<table border=\"1\" class=\"dataframe\">\n",
              "  <thead>\n",
              "    <tr style=\"text-align: right;\">\n",
              "      <th></th>\n",
              "      <th>Missing Values</th>\n",
              "      <th>% of Total Values</th>\n",
              "    </tr>\n",
              "  </thead>\n",
              "  <tbody>\n",
              "  </tbody>\n",
              "</table>\n",
              "</div>"
            ],
            "text/plain": [
              "Empty DataFrame\n",
              "Columns: [Missing Values, % of Total Values]\n",
              "Index: []"
            ]
          },
          "metadata": {
            "tags": []
          },
          "execution_count": 18
        }
      ]
    },
    {
      "cell_type": "code",
      "metadata": {
        "id": "9IxRE77XAIB6",
        "colab_type": "code",
        "colab": {}
      },
      "source": [
        "#Split Train and Test data\n",
        "df_train = big_df[0:10683]\n",
        "df_test = big_df[10683:]\n",
        "df_test = df_test.drop(['Price'], axis =1)"
      ],
      "execution_count": 0,
      "outputs": []
    },
    {
      "cell_type": "code",
      "metadata": {
        "id": "jJ60aZTiA7Wf",
        "colab_type": "code",
        "colab": {}
      },
      "source": [
        "X = df_train.drop(['Price'], axis=1)\n",
        "y = df_train.Price"
      ],
      "execution_count": 0,
      "outputs": []
    },
    {
      "cell_type": "code",
      "metadata": {
        "id": "CygzsfNcBAry",
        "colab_type": "code",
        "colab": {}
      },
      "source": [
        "from sklearn.model_selection import train_test_split\n",
        "X_train, X_test, y_train, y_test = train_test_split(X, y, test_size=0.3, random_state=123)"
      ],
      "execution_count": 0,
      "outputs": []
    },
    {
      "cell_type": "code",
      "metadata": {
        "id": "4jlBNWuCBD-J",
        "colab_type": "code",
        "outputId": "971a4fea-0037-4391-f015-4c9bd3e055b7",
        "colab": {
          "base_uri": "https://localhost:8080/",
          "height": 367
        }
      },
      "source": [
        "# # MODEL BUILDING \n",
        "from IPython.display import Image\n",
        "from IPython.core.display import HTML \n",
        "Image(url = \"http://i.imgur.com/QBuDOjs.jpg\")"
      ],
      "execution_count": 0,
      "outputs": [
        {
          "output_type": "execute_result",
          "data": {
            "text/html": [
              "<img src=\"http://i.imgur.com/QBuDOjs.jpg\"/>"
            ],
            "text/plain": [
              "<IPython.core.display.Image object>"
            ]
          },
          "metadata": {
            "tags": []
          },
          "execution_count": 26
        }
      ]
    },
    {
      "cell_type": "code",
      "metadata": {
        "id": "DWvQOtLwBhG1",
        "colab_type": "code",
        "colab": {}
      },
      "source": [
        "#Build Base LinearReg model method\n",
        "lm = LinearRegression()"
      ],
      "execution_count": 0,
      "outputs": []
    },
    {
      "cell_type": "code",
      "metadata": {
        "id": "7b3Lk1P4B2gT",
        "colab_type": "code",
        "colab": {}
      },
      "source": [
        "#Build our cross validation method\n",
        "kfolds = KFold(n_splits=10,shuffle=True)"
      ],
      "execution_count": 0,
      "outputs": []
    },
    {
      "cell_type": "code",
      "metadata": {
        "id": "vWXgUHiyB33m",
        "colab_type": "code",
        "colab": {}
      },
      "source": [
        "def cv_rmse(model):\n",
        "    rmse = np.sqrt(-cross_val_score(model, X, y, \n",
        "                                   scoring=\"neg_mean_squared_error\", \n",
        "                                   cv = kfolds))\n",
        "    return(rmse)\n"
      ],
      "execution_count": 0,
      "outputs": []
    },
    {
      "cell_type": "code",
      "metadata": {
        "id": "g1qquf6eB576",
        "colab_type": "code",
        "outputId": "1c78fa2a-61c2-4f19-8a3d-6121f593d5cc",
        "colab": {
          "base_uri": "https://localhost:8080/",
          "height": 443
        }
      },
      "source": [
        "X"
      ],
      "execution_count": 0,
      "outputs": [
        {
          "output_type": "execute_result",
          "data": {
            "text/html": [
              "<div>\n",
              "<style scoped>\n",
              "    .dataframe tbody tr th:only-of-type {\n",
              "        vertical-align: middle;\n",
              "    }\n",
              "\n",
              "    .dataframe tbody tr th {\n",
              "        vertical-align: top;\n",
              "    }\n",
              "\n",
              "    .dataframe thead th {\n",
              "        text-align: right;\n",
              "    }\n",
              "</style>\n",
              "<table border=\"1\" class=\"dataframe\">\n",
              "  <thead>\n",
              "    <tr style=\"text-align: right;\">\n",
              "      <th></th>\n",
              "      <th>Airline</th>\n",
              "      <th>Source</th>\n",
              "      <th>Destination</th>\n",
              "      <th>Additional_Info</th>\n",
              "      <th>Date</th>\n",
              "      <th>Month</th>\n",
              "      <th>Year</th>\n",
              "      <th>Arrival_Hour</th>\n",
              "      <th>Arrival_Minute</th>\n",
              "      <th>Stop</th>\n",
              "      <th>Dep_Hour</th>\n",
              "      <th>Dep_Minute</th>\n",
              "      <th>Route_1</th>\n",
              "      <th>Route_2</th>\n",
              "      <th>Route_3</th>\n",
              "      <th>Route_4</th>\n",
              "      <th>Route_5</th>\n",
              "    </tr>\n",
              "  </thead>\n",
              "  <tbody>\n",
              "    <tr>\n",
              "      <th>0</th>\n",
              "      <td>3</td>\n",
              "      <td>0</td>\n",
              "      <td>5</td>\n",
              "      <td>8</td>\n",
              "      <td>24</td>\n",
              "      <td>3</td>\n",
              "      <td>2019</td>\n",
              "      <td>1</td>\n",
              "      <td>10</td>\n",
              "      <td>0</td>\n",
              "      <td>22</td>\n",
              "      <td>20</td>\n",
              "      <td>0</td>\n",
              "      <td>13</td>\n",
              "      <td>24</td>\n",
              "      <td>12</td>\n",
              "      <td>4</td>\n",
              "    </tr>\n",
              "    <tr>\n",
              "      <th>1</th>\n",
              "      <td>1</td>\n",
              "      <td>3</td>\n",
              "      <td>0</td>\n",
              "      <td>8</td>\n",
              "      <td>1</td>\n",
              "      <td>5</td>\n",
              "      <td>2019</td>\n",
              "      <td>13</td>\n",
              "      <td>15</td>\n",
              "      <td>2</td>\n",
              "      <td>5</td>\n",
              "      <td>50</td>\n",
              "      <td>2</td>\n",
              "      <td>25</td>\n",
              "      <td>1</td>\n",
              "      <td>3</td>\n",
              "      <td>4</td>\n",
              "    </tr>\n",
              "    <tr>\n",
              "      <th>2</th>\n",
              "      <td>4</td>\n",
              "      <td>2</td>\n",
              "      <td>1</td>\n",
              "      <td>8</td>\n",
              "      <td>9</td>\n",
              "      <td>6</td>\n",
              "      <td>2019</td>\n",
              "      <td>4</td>\n",
              "      <td>25</td>\n",
              "      <td>2</td>\n",
              "      <td>9</td>\n",
              "      <td>25</td>\n",
              "      <td>3</td>\n",
              "      <td>32</td>\n",
              "      <td>4</td>\n",
              "      <td>5</td>\n",
              "      <td>4</td>\n",
              "    </tr>\n",
              "    <tr>\n",
              "      <th>3</th>\n",
              "      <td>3</td>\n",
              "      <td>3</td>\n",
              "      <td>0</td>\n",
              "      <td>8</td>\n",
              "      <td>12</td>\n",
              "      <td>5</td>\n",
              "      <td>2019</td>\n",
              "      <td>23</td>\n",
              "      <td>30</td>\n",
              "      <td>1</td>\n",
              "      <td>18</td>\n",
              "      <td>5</td>\n",
              "      <td>2</td>\n",
              "      <td>34</td>\n",
              "      <td>3</td>\n",
              "      <td>12</td>\n",
              "      <td>4</td>\n",
              "    </tr>\n",
              "    <tr>\n",
              "      <th>4</th>\n",
              "      <td>3</td>\n",
              "      <td>0</td>\n",
              "      <td>5</td>\n",
              "      <td>8</td>\n",
              "      <td>1</td>\n",
              "      <td>3</td>\n",
              "      <td>2019</td>\n",
              "      <td>21</td>\n",
              "      <td>35</td>\n",
              "      <td>1</td>\n",
              "      <td>16</td>\n",
              "      <td>50</td>\n",
              "      <td>0</td>\n",
              "      <td>34</td>\n",
              "      <td>8</td>\n",
              "      <td>12</td>\n",
              "      <td>4</td>\n",
              "    </tr>\n",
              "    <tr>\n",
              "      <th>...</th>\n",
              "      <td>...</td>\n",
              "      <td>...</td>\n",
              "      <td>...</td>\n",
              "      <td>...</td>\n",
              "      <td>...</td>\n",
              "      <td>...</td>\n",
              "      <td>...</td>\n",
              "      <td>...</td>\n",
              "      <td>...</td>\n",
              "      <td>...</td>\n",
              "      <td>...</td>\n",
              "      <td>...</td>\n",
              "      <td>...</td>\n",
              "      <td>...</td>\n",
              "      <td>...</td>\n",
              "      <td>...</td>\n",
              "      <td>...</td>\n",
              "    </tr>\n",
              "    <tr>\n",
              "      <th>10678</th>\n",
              "      <td>0</td>\n",
              "      <td>3</td>\n",
              "      <td>0</td>\n",
              "      <td>8</td>\n",
              "      <td>9</td>\n",
              "      <td>4</td>\n",
              "      <td>2019</td>\n",
              "      <td>22</td>\n",
              "      <td>25</td>\n",
              "      <td>0</td>\n",
              "      <td>19</td>\n",
              "      <td>55</td>\n",
              "      <td>2</td>\n",
              "      <td>5</td>\n",
              "      <td>24</td>\n",
              "      <td>12</td>\n",
              "      <td>4</td>\n",
              "    </tr>\n",
              "    <tr>\n",
              "      <th>10679</th>\n",
              "      <td>1</td>\n",
              "      <td>3</td>\n",
              "      <td>0</td>\n",
              "      <td>8</td>\n",
              "      <td>27</td>\n",
              "      <td>4</td>\n",
              "      <td>2019</td>\n",
              "      <td>23</td>\n",
              "      <td>20</td>\n",
              "      <td>0</td>\n",
              "      <td>20</td>\n",
              "      <td>45</td>\n",
              "      <td>2</td>\n",
              "      <td>5</td>\n",
              "      <td>24</td>\n",
              "      <td>12</td>\n",
              "      <td>4</td>\n",
              "    </tr>\n",
              "    <tr>\n",
              "      <th>10680</th>\n",
              "      <td>4</td>\n",
              "      <td>0</td>\n",
              "      <td>2</td>\n",
              "      <td>8</td>\n",
              "      <td>27</td>\n",
              "      <td>4</td>\n",
              "      <td>2019</td>\n",
              "      <td>11</td>\n",
              "      <td>20</td>\n",
              "      <td>0</td>\n",
              "      <td>8</td>\n",
              "      <td>20</td>\n",
              "      <td>0</td>\n",
              "      <td>13</td>\n",
              "      <td>24</td>\n",
              "      <td>12</td>\n",
              "      <td>4</td>\n",
              "    </tr>\n",
              "    <tr>\n",
              "      <th>10681</th>\n",
              "      <td>10</td>\n",
              "      <td>0</td>\n",
              "      <td>5</td>\n",
              "      <td>8</td>\n",
              "      <td>1</td>\n",
              "      <td>3</td>\n",
              "      <td>2019</td>\n",
              "      <td>14</td>\n",
              "      <td>10</td>\n",
              "      <td>0</td>\n",
              "      <td>11</td>\n",
              "      <td>30</td>\n",
              "      <td>0</td>\n",
              "      <td>13</td>\n",
              "      <td>24</td>\n",
              "      <td>12</td>\n",
              "      <td>4</td>\n",
              "    </tr>\n",
              "    <tr>\n",
              "      <th>10682</th>\n",
              "      <td>1</td>\n",
              "      <td>2</td>\n",
              "      <td>1</td>\n",
              "      <td>8</td>\n",
              "      <td>9</td>\n",
              "      <td>5</td>\n",
              "      <td>2019</td>\n",
              "      <td>19</td>\n",
              "      <td>15</td>\n",
              "      <td>2</td>\n",
              "      <td>10</td>\n",
              "      <td>55</td>\n",
              "      <td>3</td>\n",
              "      <td>16</td>\n",
              "      <td>4</td>\n",
              "      <td>5</td>\n",
              "      <td>4</td>\n",
              "    </tr>\n",
              "  </tbody>\n",
              "</table>\n",
              "<p>10683 rows × 17 columns</p>\n",
              "</div>"
            ],
            "text/plain": [
              "       Airline  Source  Destination  ...  Route_3  Route_4  Route_5\n",
              "0            3       0            5  ...       24       12        4\n",
              "1            1       3            0  ...        1        3        4\n",
              "2            4       2            1  ...        4        5        4\n",
              "3            3       3            0  ...        3       12        4\n",
              "4            3       0            5  ...        8       12        4\n",
              "...        ...     ...          ...  ...      ...      ...      ...\n",
              "10678        0       3            0  ...       24       12        4\n",
              "10679        1       3            0  ...       24       12        4\n",
              "10680        4       0            2  ...       24       12        4\n",
              "10681       10       0            5  ...       24       12        4\n",
              "10682        1       2            1  ...        4        5        4\n",
              "\n",
              "[10683 rows x 17 columns]"
            ]
          },
          "metadata": {
            "tags": []
          },
          "execution_count": 27
        }
      ]
    },
    {
      "cell_type": "code",
      "metadata": {
        "id": "k1PImJdBB8_Z",
        "colab_type": "code",
        "outputId": "1ff588eb-5aac-4abe-a78a-e52cd513f67d",
        "colab": {
          "base_uri": "https://localhost:8080/",
          "height": 35
        }
      },
      "source": [
        "benchmark_model = make_pipeline(RobustScaler(),\n",
        "                                lm).fit(X=X_train, y=y_train)\n",
        "print(\"RMSE = \",cv_rmse(benchmark_model).mean())"
      ],
      "execution_count": 0,
      "outputs": [
        {
          "output_type": "stream",
          "text": [
            "RMSE =  3274.888950385017\n"
          ],
          "name": "stdout"
        }
      ]
    },
    {
      "cell_type": "code",
      "metadata": {
        "id": "545da7aGDG-9",
        "colab_type": "code",
        "colab": {}
      },
      "source": [
        "# # Ridge Regression\n",
        "from sklearn.linear_model import RidgeCV\n",
        "\n",
        "def ridge_selector(k):\n",
        "    ridge_model = make_pipeline(RobustScaler(),\n",
        "                                RidgeCV(alphas = [k],\n",
        "                                        cv=kfolds)).fit(X_train, y_train)\n",
        "    \n",
        "    ridge_rmse = cv_rmse(ridge_model).mean()\n",
        "    return(ridge_rmse)\n"
      ],
      "execution_count": 0,
      "outputs": []
    },
    {
      "cell_type": "code",
      "metadata": {
        "id": "j_ibJ7d8D94M",
        "colab_type": "code",
        "colab": {}
      },
      "source": [
        "r_alphas = [.0001, .0003, .0005, .0007, .0009, \n",
        "          .01, 0.05, 0.1, 0.3, 1, 3, 5, 10, 15, 20, 30, 50, 60, 70, 80]\n",
        "\n",
        "ridge_scores = []\n",
        "for alpha in r_alphas:\n",
        "    score = ridge_selector(alpha)\n",
        "    ridge_scores.append(score)"
      ],
      "execution_count": 0,
      "outputs": []
    },
    {
      "cell_type": "code",
      "metadata": {
        "id": "_GClk-KIMPK8",
        "colab_type": "code",
        "outputId": "1d510e0c-d082-4d1b-f4b5-dd87bd2b58eb",
        "colab": {
          "base_uri": "https://localhost:8080/",
          "height": 35
        }
      },
      "source": [
        "ridge_model1 = make_pipeline(RobustScaler(),\n",
        "                            RidgeCV(alphas = r_alphas,\n",
        "                                    cv=kfolds)).fit(X_train, y_train)\n",
        "\n",
        "print(\"Ridge Regression RMSE = \",cv_rmse(ridge_model1).mean())"
      ],
      "execution_count": 0,
      "outputs": [
        {
          "output_type": "stream",
          "text": [
            "Ridge Regression RMSE =  3267.967402248504\n"
          ],
          "name": "stdout"
        }
      ]
    },
    {
      "cell_type": "code",
      "metadata": {
        "id": "2FBZSIEpEFb2",
        "colab_type": "code",
        "outputId": "00686113-7145-4a1b-e13c-b3369097c772",
        "colab": {
          "base_uri": "https://localhost:8080/",
          "height": 938
        }
      },
      "source": [
        "plt.plot(r_alphas, ridge_scores, label='Ridge')\n",
        "plt.legend('center')\n",
        "plt.xlabel('alpha')\n",
        "plt.ylabel('score')\n",
        "\n",
        "ridge_score_table = pd.DataFrame(ridge_scores, r_alphas, columns=['RMSE'])\n",
        "ridge_score_table"
      ],
      "execution_count": 0,
      "outputs": [
        {
          "output_type": "execute_result",
          "data": {
            "text/html": [
              "<div>\n",
              "<style scoped>\n",
              "    .dataframe tbody tr th:only-of-type {\n",
              "        vertical-align: middle;\n",
              "    }\n",
              "\n",
              "    .dataframe tbody tr th {\n",
              "        vertical-align: top;\n",
              "    }\n",
              "\n",
              "    .dataframe thead th {\n",
              "        text-align: right;\n",
              "    }\n",
              "</style>\n",
              "<table border=\"1\" class=\"dataframe\">\n",
              "  <thead>\n",
              "    <tr style=\"text-align: right;\">\n",
              "      <th></th>\n",
              "      <th>RMSE</th>\n",
              "    </tr>\n",
              "  </thead>\n",
              "  <tbody>\n",
              "    <tr>\n",
              "      <th>0.0001</th>\n",
              "      <td>3277.344528</td>\n",
              "    </tr>\n",
              "    <tr>\n",
              "      <th>0.0003</th>\n",
              "      <td>3269.154969</td>\n",
              "    </tr>\n",
              "    <tr>\n",
              "      <th>0.0005</th>\n",
              "      <td>3262.858644</td>\n",
              "    </tr>\n",
              "    <tr>\n",
              "      <th>0.0007</th>\n",
              "      <td>3278.070328</td>\n",
              "    </tr>\n",
              "    <tr>\n",
              "      <th>0.0009</th>\n",
              "      <td>3260.508245</td>\n",
              "    </tr>\n",
              "    <tr>\n",
              "      <th>0.0100</th>\n",
              "      <td>3260.222468</td>\n",
              "    </tr>\n",
              "    <tr>\n",
              "      <th>0.0500</th>\n",
              "      <td>3272.262629</td>\n",
              "    </tr>\n",
              "    <tr>\n",
              "      <th>0.1000</th>\n",
              "      <td>3272.700345</td>\n",
              "    </tr>\n",
              "    <tr>\n",
              "      <th>0.3000</th>\n",
              "      <td>3271.368460</td>\n",
              "    </tr>\n",
              "    <tr>\n",
              "      <th>1.0000</th>\n",
              "      <td>3271.482629</td>\n",
              "    </tr>\n",
              "    <tr>\n",
              "      <th>3.0000</th>\n",
              "      <td>3268.428884</td>\n",
              "    </tr>\n",
              "    <tr>\n",
              "      <th>5.0000</th>\n",
              "      <td>3274.361801</td>\n",
              "    </tr>\n",
              "    <tr>\n",
              "      <th>10.0000</th>\n",
              "      <td>3272.776362</td>\n",
              "    </tr>\n",
              "    <tr>\n",
              "      <th>15.0000</th>\n",
              "      <td>3273.886089</td>\n",
              "    </tr>\n",
              "    <tr>\n",
              "      <th>20.0000</th>\n",
              "      <td>3265.988415</td>\n",
              "    </tr>\n",
              "    <tr>\n",
              "      <th>30.0000</th>\n",
              "      <td>3271.363448</td>\n",
              "    </tr>\n",
              "    <tr>\n",
              "      <th>50.0000</th>\n",
              "      <td>3268.824545</td>\n",
              "    </tr>\n",
              "    <tr>\n",
              "      <th>60.0000</th>\n",
              "      <td>3275.149512</td>\n",
              "    </tr>\n",
              "    <tr>\n",
              "      <th>70.0000</th>\n",
              "      <td>3262.702126</td>\n",
              "    </tr>\n",
              "    <tr>\n",
              "      <th>80.0000</th>\n",
              "      <td>3271.230058</td>\n",
              "    </tr>\n",
              "  </tbody>\n",
              "</table>\n",
              "</div>"
            ],
            "text/plain": [
              "                RMSE\n",
              "0.0001   3277.344528\n",
              "0.0003   3269.154969\n",
              "0.0005   3262.858644\n",
              "0.0007   3278.070328\n",
              "0.0009   3260.508245\n",
              "0.0100   3260.222468\n",
              "0.0500   3272.262629\n",
              "0.1000   3272.700345\n",
              "0.3000   3271.368460\n",
              "1.0000   3271.482629\n",
              "3.0000   3268.428884\n",
              "5.0000   3274.361801\n",
              "10.0000  3272.776362\n",
              "15.0000  3273.886089\n",
              "20.0000  3265.988415\n",
              "30.0000  3271.363448\n",
              "50.0000  3268.824545\n",
              "60.0000  3275.149512\n",
              "70.0000  3262.702126\n",
              "80.0000  3271.230058"
            ]
          },
          "metadata": {
            "tags": []
          },
          "execution_count": 31
        },
        {
          "output_type": "display_data",
          "data": {
            "image/png": "[encoded data removed]",
            "text/plain": [
              "<Figure size 432x288 with 1 Axes>"
            ]
          },
          "metadata": {
            "tags": []
          }
        }
      ]
    },
    {
      "cell_type": "code",
      "metadata": {
        "id": "-mryfecBEPOL",
        "colab_type": "code",
        "outputId": "c750dc31-f871-4ff9-b677-23bc4ae78821",
        "colab": {
          "base_uri": "https://localhost:8080/",
          "height": 35
        }
      },
      "source": [
        "alphas_alt = [14.5, 14.6, 14.7, 14.8, 14.9, 15, 15.1, 15.2, 15.3, 15.4, 15.5]\n",
        "\n",
        "ridge_model2 = make_pipeline(RobustScaler(),\n",
        "                            RidgeCV(alphas = alphas_alt,\n",
        "                                    cv=kfolds)).fit(X_train, y_train)\n",
        "\n",
        "print(\"Ridge Regression RMSE = \",cv_rmse(ridge_model2).mean())"
      ],
      "execution_count": 0,
      "outputs": [
        {
          "output_type": "stream",
          "text": [
            "Ridge Regression RMSE =  3274.981527700181\n"
          ],
          "name": "stdout"
        }
      ]
    },
    {
      "cell_type": "code",
      "metadata": {
        "id": "yjtkJN0gI8eJ",
        "colab_type": "code",
        "colab": {}
      },
      "source": [
        "#Lasso Regression\n",
        "alphas = [0.00005, 0.0001, 0.0003, 0.0005, 0.0007, \n",
        "          0.0009, 0.01]\n",
        "alphas2 = [0.00005, 0.0001, 0.0002, 0.0003, 0.0004, 0.0005,\n",
        "           0.0006, 0.0007, 0.0008]\n",
        "\n",
        "\n",
        "lasso_model2 = make_pipeline(RobustScaler(),\n",
        "                             LassoCV(max_iter=1e7,\n",
        "                                    alphas = alphas2,\n",
        "                                    random_state = 42)).fit(X_train, y_train)"
      ],
      "execution_count": 0,
      "outputs": []
    },
    {
      "cell_type": "code",
      "metadata": {
        "id": "rt-7Vcw2JEuT",
        "colab_type": "code",
        "outputId": "ae5c1451-60b0-437d-c550-52d4fc538296",
        "colab": {
          "base_uri": "https://localhost:8080/",
          "height": 297
        }
      },
      "source": [
        "scores = lasso_model2.steps[1][1].mse_path_\n",
        "\n",
        "plt.plot(alphas2, scores, label='Lasso')\n",
        "plt.legend(loc='center')\n",
        "plt.xlabel('alpha')\n",
        "plt.ylabel('RMSE')\n",
        "plt.tight_layout()\n",
        "plt.show()\n"
      ],
      "execution_count": 0,
      "outputs": [
        {
          "output_type": "display_data",
          "data": {
            "image/png": "[encoded data removed]",
            "text/plain": [
              "<Figure size 432x288 with 1 Axes>"
            ]
          },
          "metadata": {
            "tags": []
          }
        }
      ]
    },
    {
      "cell_type": "code",
      "metadata": {
        "id": "d7aj1_vJJEqb",
        "colab_type": "code",
        "outputId": "e1b1b909-f56e-488f-dec2-bb7c6b27a930",
        "colab": {
          "base_uri": "https://localhost:8080/",
          "height": 35
        }
      },
      "source": [
        "cv_rmse(lasso_model2).mean()"
      ],
      "execution_count": 0,
      "outputs": [
        {
          "output_type": "execute_result",
          "data": {
            "text/plain": [
              "3274.102288334236"
            ]
          },
          "metadata": {
            "tags": []
          },
          "execution_count": 34
        }
      ]
    },
    {
      "cell_type": "code",
      "metadata": {
        "id": "iyww06EAJEmu",
        "colab_type": "code",
        "outputId": "d43d6af8-d514-48b6-a084-7e802ce2703f",
        "colab": {
          "base_uri": "https://localhost:8080/",
          "height": 35
        }
      },
      "source": [
        "#Elastic Net Regression\n",
        "e_alphas = [0.0001, 0.0002, 0.0003, 0.0004, 0.0005, 0.0006, 0.0007]\n",
        "e_l1ratio = [0.8, 0.85, 0.9, 0.95, 0.99, 1]\n",
        "\n",
        "elastic_cv = make_pipeline(RobustScaler(), \n",
        "                           ElasticNetCV(max_iter=1e7, alphas=e_alphas, \n",
        "                                        cv=kfolds, l1_ratio=e_l1ratio))\n",
        "\n",
        "elastic_model3 = elastic_cv.fit(X_train, y_train)\n",
        "\n",
        "cv_rmse(elastic_model3).mean()\n"
      ],
      "execution_count": 0,
      "outputs": [
        {
          "output_type": "execute_result",
          "data": {
            "text/plain": [
              "3263.0512029504143"
            ]
          },
          "metadata": {
            "tags": []
          },
          "execution_count": 35
        }
      ]
    },
    {
      "cell_type": "code",
      "metadata": {
        "id": "sn814ZWYK10G",
        "colab_type": "code",
        "colab": {}
      },
      "source": [
        "# # XGBoost \n",
        "from sklearn.model_selection import GridSearchCV\n",
        "from matplotlib.pylab import rcParams\n",
        "rcParams['figure.figsize'] = 12, 4\n",
        "get_ipython().run_line_magic('matplotlib', 'inline')\n",
        "import xgboost as xgb\n",
        "from xgboost import XGBRegressor"
      ],
      "execution_count": 0,
      "outputs": []
    },
    {
      "cell_type": "code",
      "metadata": {
        "id": "kmQbPx9FK99U",
        "colab_type": "code",
        "colab": {}
      },
      "source": [
        "def modelfit(alg, dtrain, target, useTrainCV=True, \n",
        "             cv_folds=5, early_stopping_rounds=50):\n",
        "    \n",
        "    if useTrainCV:\n",
        "        xgb_param = alg.get_xgb_params()\n",
        "        xgtrain = xgb.DMatrix(dtrain.values, \n",
        "                              label=y.values)\n",
        "        \n",
        "        print(\"\\nGetting Cross-validation result..\")\n",
        "        cvresult = xgb.cv(xgb_param, xgtrain, \n",
        "                          num_boost_round=alg.get_params()['n_estimators'], \n",
        "                          nfold=cv_folds,metrics='rmse', \n",
        "                          early_stopping_rounds=early_stopping_rounds,\n",
        "                          verbose_eval = True)\n",
        "        alg.set_params(n_estimators=cvresult.shape[0])\n",
        "    \n",
        "    #Fit the algorithm on the data\n",
        "    print(\"\\nFitting algorithm to data...\")\n",
        "    alg.fit(dtrain, target, eval_metric='rmse')\n",
        "        \n",
        "    #Predict training set:\n",
        "    print(\"\\nPredicting from training data...\")\n",
        "    dtrain_predictions = alg.predict(dtrain)\n",
        "        \n",
        "    #Print model report:\n",
        "    print(\"\\nModel Report\")\n",
        "    print(\"RMSE : %.4g\" % np.sqrt(mean_squared_error(target.values,\n",
        "                                             dtrain_predictions)))"
      ],
      "execution_count": 0,
      "outputs": []
    },
    {
      "cell_type": "code",
      "metadata": {
        "id": "AY_zxgLRLAzv",
        "colab_type": "code",
        "outputId": "bedfa81b-61c7-4b44-ddc6-b1f8ffb2a27c",
        "colab": {
          "base_uri": "https://localhost:8080/",
          "height": 247
        }
      },
      "source": [
        "xgb3 = XGBRegressor(learning_rate =0.1, n_estimators=200, max_depth=10,\n",
        "                     min_child_weight=5 ,gamma=0, subsample=0.7,max_bin=20,\n",
        "                     colsample_bytree=0.8,objective= 'reg:squarederror',\n",
        "                     nthread=4,scale_pos_weight=1,seed=27, reg_alpha=0.00006)\n",
        "\n",
        "xgb_fit = xgb3.fit(X_train, y_train)"
      ],
      "execution_count": 0,
      "outputs": [
        {
          "output_type": "error",
          "ename": "NameError",
          "evalue": "ignored",
          "traceback": [
            "\u001b[0;31m---------------------------------------------------------------------------\u001b[0m",
            "\u001b[0;31mNameError\u001b[0m                                 Traceback (most recent call last)",
            "\u001b[0;32m<ipython-input-1-1a6685dd080e>\u001b[0m in \u001b[0;36m<module>\u001b[0;34m()\u001b[0m\n\u001b[0;32m----> 1\u001b[0;31m xgb3 = XGBRegressor(learning_rate =0.1, n_estimators=200, max_depth=10,\n\u001b[0m\u001b[1;32m      2\u001b[0m                      \u001b[0mmin_child_weight\u001b[0m\u001b[0;34m=\u001b[0m\u001b[0;36m5\u001b[0m \u001b[0;34m,\u001b[0m\u001b[0mgamma\u001b[0m\u001b[0;34m=\u001b[0m\u001b[0;36m0\u001b[0m\u001b[0;34m,\u001b[0m \u001b[0msubsample\u001b[0m\u001b[0;34m=\u001b[0m\u001b[0;36m0.7\u001b[0m\u001b[0;34m,\u001b[0m\u001b[0mmax_bin\u001b[0m\u001b[0;34m=\u001b[0m\u001b[0;36m20\u001b[0m\u001b[0;34m,\u001b[0m\u001b[0;34m\u001b[0m\u001b[0;34m\u001b[0m\u001b[0m\n\u001b[1;32m      3\u001b[0m                      \u001b[0mcolsample_bytree\u001b[0m\u001b[0;34m=\u001b[0m\u001b[0;36m0.8\u001b[0m\u001b[0;34m,\u001b[0m\u001b[0mobjective\u001b[0m\u001b[0;34m=\u001b[0m \u001b[0;34m'reg:squarederror'\u001b[0m\u001b[0;34m,\u001b[0m\u001b[0;34m\u001b[0m\u001b[0;34m\u001b[0m\u001b[0m\n\u001b[1;32m      4\u001b[0m                      nthread=4,scale_pos_weight=1,seed=27, reg_alpha=0.00006)\n\u001b[1;32m      5\u001b[0m \u001b[0;34m\u001b[0m\u001b[0m\n",
            "\u001b[0;31mNameError\u001b[0m: name 'XGBRegressor' is not defined"
          ]
        }
      ]
    },
    {
      "cell_type": "code",
      "metadata": {
        "id": "TN1XUFMyLaAo",
        "colab_type": "code",
        "outputId": "b571b7f1-99bc-4f2e-b673-805add7431ed",
        "colab": {
          "base_uri": "https://localhost:8080/",
          "height": 35
        }
      },
      "source": [
        "cv_rmse(xgb_fit).mean()"
      ],
      "execution_count": 0,
      "outputs": [
        {
          "output_type": "execute_result",
          "data": {
            "text/plain": [
              "1357.0202245907417"
            ]
          },
          "metadata": {
            "tags": []
          },
          "execution_count": 41
        }
      ]
    },
    {
      "cell_type": "code",
      "metadata": {
        "id": "cV0AjZA0Lt-I",
        "colab_type": "code",
        "outputId": "ef6cb606-6527-4899-e4e7-be737e4c4232",
        "colab": {
          "base_uri": "https://localhost:8080/",
          "height": 36
        }
      },
      "source": [
        "from sklearn import svm\n",
        "svr_opt = svm.SVR(C = 100000, gamma = 1e-08)\n",
        "\n",
        "svr_fit = svr_opt.fit(X_train, y_train)\n",
        "\n",
        "cv_rmse(svr_fit).mean()"
      ],
      "execution_count": 0,
      "outputs": [
        {
          "output_type": "execute_result",
          "data": {
            "text/plain": [
              "4191.657759309572"
            ]
          },
          "metadata": {
            "tags": []
          },
          "execution_count": 63
        }
      ]
    },
    {
      "cell_type": "code",
      "metadata": {
        "id": "YgIQw6PJMuQS",
        "colab_type": "code",
        "outputId": "504987f1-5303-4d23-b558-12b4762038b4",
        "colab": {
          "base_uri": "https://localhost:8080/",
          "height": 35
        }
      },
      "source": [
        "#Light GBM\n",
        "from lightgbm import LGBMRegressor\n",
        "\n",
        "lgbm_model = LGBMRegressor(objective='regression',num_leaves=31,\n",
        "                              learning_rate=0.1, n_estimators=200,\n",
        "                              max_bin = 100, bagging_fraction = 0.8,\n",
        "                              bagging_freq = 5, feature_fraction = 0.8,\n",
        "                              feature_fraction_seed=9, bagging_seed=9,\n",
        "                              min_data_in_leaf =20, min_sum_hessian_in_leaf = 11)\n",
        "lgbm_fit = lgbm_model.fit(X_train, y_train)\n",
        "\n",
        "cv_rmse(lgbm_fit).mean()"
      ],
      "execution_count": 0,
      "outputs": [
        {
          "output_type": "execute_result",
          "data": {
            "text/plain": [
              "1521.8091155090597"
            ]
          },
          "metadata": {
            "tags": []
          },
          "execution_count": 42
        }
      ]
    },
    {
      "cell_type": "code",
      "metadata": {
        "id": "2GofiqOaM4Zi",
        "colab_type": "code",
        "colab": {}
      },
      "source": [
        "#Stacking\n",
        "from mlxtend.regressor import StackingCVRegressor\n",
        "from sklearn.pipeline import make_pipeline\n",
        "\n",
        "#setup models\n",
        "ridge = make_pipeline(RobustScaler(), \n",
        "                      RidgeCV(alphas = alphas_alt, cv=kfolds))\n",
        "\n",
        "lasso = make_pipeline(RobustScaler(),\n",
        "                      LassoCV(max_iter=1e7, alphas = alphas2,\n",
        "                              random_state = 42, cv=kfolds))\n",
        "\n",
        "elasticnet = make_pipeline(RobustScaler(), \n",
        "                           ElasticNetCV(max_iter=1e7, alphas=e_alphas, \n",
        "                                        cv=kfolds, l1_ratio=e_l1ratio))\n",
        "\n",
        "lightgbm = make_pipeline(RobustScaler(),\n",
        "                        LGBMRegressor(objective='regression',num_leaves=31,\n",
        "                              learning_rate=0.1, n_estimators=200,\n",
        "                              max_bin = 100, bagging_fraction = 0.8,\n",
        "                              bagging_freq = 5, feature_fraction = 0.8,\n",
        "                              feature_fraction_seed=9, bagging_seed=9,\n",
        "                              min_data_in_leaf =6, min_sum_hessian_in_leaf = 11))\n",
        "\n",
        "\n",
        "xgboost = make_pipeline(RobustScaler(),\n",
        "                        XGBRegressor(learning_rate =0.1, n_estimators=200, max_depth=10,\n",
        "                     min_child_weight=5 ,gamma=0, subsample=0.7,\n",
        "                     colsample_bytree=0.8,objective= 'reg:squarederror',\n",
        "                     nthread=4,scale_pos_weight=1,seed=27, reg_alpha=0.00006))\n",
        " \n",
        "\n",
        "#stack\n",
        "stack_gen = StackingCVRegressor(regressors=(ridge, lasso, elasticnet, \n",
        "                                            xgb, lightgbm), \n",
        "                               meta_regressor=xgboost,\n",
        "                               use_features_in_secondary=True)\n",
        "\n",
        "\n",
        "\n",
        "#prepare dataframes\n",
        "stackX = np.array(X_train)\n",
        "stacky = np.array(y_train)"
      ],
      "execution_count": 0,
      "outputs": []
    },
    {
      "cell_type": "code",
      "metadata": {
        "id": "1t1k_DUsNBbH",
        "colab_type": "code",
        "colab": {}
      },
      "source": [
        "stack_gen_model = stack_gen.fit(stackX, stacky)"
      ],
      "execution_count": 0,
      "outputs": []
    },
    {
      "cell_type": "code",
      "metadata": {
        "id": "fYuaXRuTNK20",
        "colab_type": "code",
        "colab": {}
      },
      "source": [
        "#Predict\n",
        "em_preds = elastic_model3.predict(X_test)\n",
        "lasso_preds = lasso_model2.predict(X_test)\n",
        "ridge_preds = ridge_model2.predict(X_test)\n",
        "xgb_preds = xgb_fit.predict(X_test)\n",
        "lgbm_preds = lgbm_fit.predict(X_test)"
      ],
      "execution_count": 0,
      "outputs": []
    },
    {
      "cell_type": "code",
      "metadata": {
        "id": "I2hK-S1JPKpB",
        "colab_type": "code",
        "colab": {}
      },
      "source": [
        "em_rmse = np.sqrt(mean_squared_error(y_test, em_preds))\n",
        "la_rmse = np.sqrt(mean_squared_error(y_test, lasso_preds))\n",
        "ri_rmse = np.sqrt(mean_squared_error(y_test, ridge_preds))\n",
        "xgb_rmse = np.sqrt(mean_squared_error(y_test, xgb_preds))\n",
        "lgbm_rmse = np.sqrt(mean_squared_error(y_test, lgbm_preds))"
      ],
      "execution_count": 0,
      "outputs": []
    },
    {
      "cell_type": "code",
      "metadata": {
        "id": "TJN-4EGePznn",
        "colab_type": "code",
        "outputId": "202e55b1-5b4e-48c6-ada1-51a02fe2e69f",
        "colab": {
          "base_uri": "https://localhost:8080/",
          "height": 109
        }
      },
      "source": [
        "print(\"Elastic Model RMSE: %f\" % (em_rmse))\n",
        "print(\"Lasso Regression RMSE: %f\" % (la_rmse))\n",
        "print(\"Ridge Regression RMSE: %f\" % (ri_rmse))\n",
        "print(\"XGBoost RMSE: %f\" % (xgb_rmse))\n",
        "print(\"LightGBM RMSE: %f\" % (lgbm_rmse))"
      ],
      "execution_count": 0,
      "outputs": [
        {
          "output_type": "stream",
          "text": [
            "Elastic Model RMSE: 3228.698971\n",
            "Lasso Regression RMSE: 3228.746979\n",
            "Ridge Regression RMSE: 3228.095588\n",
            "XGBoost RMSE: 1329.498543\n",
            "LightGBM RMSE: 1421.332274\n"
          ],
          "name": "stdout"
        }
      ]
    },
    {
      "cell_type": "code",
      "metadata": {
        "id": "qHFIJAFLcROw",
        "colab_type": "code",
        "outputId": "e00c673b-38a1-43d6-eaed-db90d9eeb336",
        "colab": {
          "base_uri": "https://localhost:8080/",
          "height": 35
        }
      },
      "source": [
        "bm_preds = benchmark_model.predict(X_test)\n",
        "bm_rmse = np.sqrt(mean_squared_error(y_test, bm_preds))\n",
        "print(\"Linear Regression RMSE: %f\" % (bm_rmse))"
      ],
      "execution_count": 0,
      "outputs": [
        {
          "output_type": "stream",
          "text": [
            "Linear Regression RMSE: 3228.747177\n"
          ],
          "name": "stdout"
        }
      ]
    },
    {
      "cell_type": "code",
      "metadata": {
        "id": "LNzfCpFDOulH",
        "colab_type": "code",
        "colab": {}
      },
      "source": [
        "stack_gen_preds = stack_gen_model.predict(X_test)"
      ],
      "execution_count": 0,
      "outputs": []
    },
    {
      "cell_type": "code",
      "metadata": {
        "id": "Kt9mTAkvNLo2",
        "colab_type": "code",
        "outputId": "eaf82c8e-e227-443c-decc-c33d5113864d",
        "colab": {
          "base_uri": "https://localhost:8080/",
          "height": 35
        }
      },
      "source": [
        "from sklearn.metrics import mean_squared_error\n",
        "from math import sqrt\n",
        "\n",
        "rmse = np.sqrt(mean_squared_error(y_test, stack_gen_preds))\n",
        "print(\"RMSE: %f\" % (rmse))"
      ],
      "execution_count": 0,
      "outputs": [
        {
          "output_type": "stream",
          "text": [
            "RMSE: 1401.395620\n"
          ],
          "name": "stdout"
        }
      ]
    },
    {
      "cell_type": "code",
      "metadata": {
        "id": "KH-KZWmUNWfZ",
        "colab_type": "code",
        "outputId": "0a7ae754-d2b2-483d-f7e6-68ae835abff5",
        "colab": {
          "base_uri": "https://localhost:8080/",
          "height": 128
        }
      },
      "source": [
        "df_test_xgb = df_test[['Additional_Info', 'Airline', 'Destination', 'Source', 'Date', 'Month',\n",
        "       'Year', 'Stop', 'Arrival_Hour', 'Arrival_Minute', 'Dep_Hour',\n",
        "       'Dep_Minute', 'Route_1', 'Route_2', 'Route_3', 'Route_4', 'Route_5']]\n",
        "preds_1 = stack_gen_model.predict(df_test_xgb)\n",
        "df_test_xgb['Price'] = preds_1\n",
        "df_test_xgb.to_csv('flight_price_5.csv')"
      ],
      "execution_count": 0,
      "outputs": [
        {
          "output_type": "stream",
          "text": [
            "/usr/local/lib/python3.6/dist-packages/ipykernel_launcher.py:5: SettingWithCopyWarning: \n",
            "A value is trying to be set on a copy of a slice from a DataFrame.\n",
            "Try using .loc[row_indexer,col_indexer] = value instead\n",
            "\n",
            "See the caveats in the documentation: https://pandas.pydata.org/pandas-docs/stable/user_guide/indexing.html#returning-a-view-versus-a-copy\n",
            "  \"\"\"\n"
          ],
          "name": "stderr"
        }
      ]
    },
    {
      "cell_type": "code",
      "metadata": {
        "id": "n91mIVdEZO7B",
        "colab_type": "code",
        "colab": {}
      },
      "source": [
        "df_test_xgb = df_test[['Airline', 'Source', 'Destination', 'Date', 'Month',\n",
        "       'Year', 'Stop', 'Arrival_Hour', 'Arrival_Minute', 'Dep_Hour',\n",
        "       'Dep_Minute', 'Route_1', 'Route_2', 'Route_3', 'Route_4', 'Route_5']]\n",
        "preds_1 = xgb_fit.predict(df_test_xgb)\n",
        "df_test_xgb['Price'] = preds_1\n",
        "df_test_xgb.to_csv('flight_price_10.csv')\n"
      ],
      "execution_count": 0,
      "outputs": []
    },
    {
      "cell_type": "code",
      "metadata": {
        "id": "DktlwN_zRPwZ",
        "colab_type": "code",
        "outputId": "916cd5c9-fa1b-4ec9-bddd-9e9db1b6abaf",
        "colab": {
          "base_uri": "https://localhost:8080/",
          "height": 35
        }
      },
      "source": [
        "print (preds_1)"
      ],
      "execution_count": 0,
      "outputs": [
        {
          "output_type": "stream",
          "text": [
            "[25320.182 44740.39  14501.77  ... 30599.746 33215.266 27011.234]\n"
          ],
          "name": "stdout"
        }
      ]
    },
    {
      "cell_type": "code",
      "metadata": {
        "id": "qG-QGPYVSeN7",
        "colab_type": "code",
        "colab": {}
      },
      "source": [
        "df_self = [['Airline'=]]"
      ],
      "execution_count": 0,
      "outputs": []
    }
  ]
}